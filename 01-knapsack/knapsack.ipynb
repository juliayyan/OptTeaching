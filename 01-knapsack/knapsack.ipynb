{
 "cells": [
  {
   "cell_type": "markdown",
   "id": "9a38ae92-b17e-485e-a3b1-407323e5fa5c",
   "metadata": {},
   "source": [
    "# Lecture 1 - Introduction"
   ]
  },
  {
   "cell_type": "markdown",
   "id": "ac8c934a-f48a-4db1-9f56-a4a239f96c52",
   "metadata": {},
   "source": [
    "## Header"
   ]
  },
  {
   "cell_type": "code",
   "execution_count": 1,
   "id": "b81a85f3-1f35-4267-ba66-29740f14a9e6",
   "metadata": {},
   "outputs": [],
   "source": [
    "# # Dependencies: Uncomment and run this cell if you don't have these packages \n",
    "# Pkg.add(\"JuMP\")\n",
    "# Pkg.add(\"Gurobi\")"
   ]
  },
  {
   "cell_type": "code",
   "execution_count": 2,
   "id": "a0385277-37ee-42a3-a985-58d4af41e3ec",
   "metadata": {},
   "outputs": [],
   "source": [
    "using JuMP\n",
    "using Gurobi\n",
    "using Random"
   ]
  },
  {
   "cell_type": "markdown",
   "id": "5a9606a5-4124-4dc4-9af6-f8d7cfad326a",
   "metadata": {},
   "source": [
    "## Data"
   ]
  },
  {
   "cell_type": "code",
   "execution_count": 3,
   "id": "5f283187-6174-44d3-9c91-4c6472376849",
   "metadata": {},
   "outputs": [],
   "source": [
    "Random.seed!(1)\n",
    "\n",
    "num_items = 100                 # Number of items in the knapsack\n",
    "capacity = num_items / 10       # Capacity of the knapsack\n",
    "weights = rand(num_items);      # Weights of the items\n",
    "profits = rand(num_items);      # Profits of the items"
   ]
  },
  {
   "cell_type": "markdown",
   "id": "1ff0a850-05a8-40eb-a4d0-7e0286dee54d",
   "metadata": {},
   "source": [
    "## Model"
   ]
  },
  {
   "cell_type": "code",
   "execution_count": 4,
   "id": "fb0d11aa-ffb9-4c06-a1a8-f668912dda5b",
   "metadata": {},
   "outputs": [
    {
     "name": "stdout",
     "output_type": "stream",
     "text": [
      "Set parameter Username\n",
      "Academic license - for non-commercial use only - expires 2024-12-05\n",
      "Gurobi Optimizer version 10.0.0 build v10.0.0rc2 (mac64[arm])\n",
      "\n",
      "CPU model: Apple M1 Pro\n",
      "Thread count: 10 physical cores, 10 logical processors, using up to 10 threads\n",
      "\n",
      "Optimize a model with 1 rows, 100 columns and 100 nonzeros\n",
      "Model fingerprint: 0x3de3f8d3\n",
      "Variable types: 0 continuous, 100 integer (100 binary)\n",
      "Coefficient statistics:\n",
      "  Matrix range     [1e-03, 1e+00]\n",
      "  Objective range  [9e-03, 1e+00]\n",
      "  Bounds range     [0e+00, 0e+00]\n",
      "  RHS range        [1e+01, 1e+01]\n",
      "Found heuristic solution: objective 11.0424190\n",
      "Presolve time: 0.00s\n",
      "Presolved: 1 rows, 100 columns, 100 nonzeros\n",
      "Variable types: 0 continuous, 100 integer (100 binary)\n",
      "Found heuristic solution: objective 26.7631272\n",
      "\n",
      "Root relaxation: objective 2.768695e+01, 1 iterations, 0.00 seconds (0.00 work units)\n",
      "\n",
      "    Nodes    |    Current Node    |     Objective Bounds      |     Work\n",
      " Expl Unexpl |  Obj  Depth IntInf | Incumbent    BestBd   Gap | It/Node Time\n",
      "\n",
      "     0     0   27.68695    0    1   26.76313   27.68695  3.45%     -    0s\n",
      "H    0     0                      27.4625511   27.68695  0.82%     -    0s\n",
      "H    0     0                      27.5761665   27.68695  0.40%     -    0s\n",
      "H    0     0                      27.6376745   27.68695  0.18%     -    0s\n",
      "     0     0   27.65952    0    2   27.63767   27.65952  0.08%     -    0s\n",
      "\n",
      "Explored 1 nodes (4 simplex iterations) in 0.00 seconds (0.00 work units)\n",
      "Thread count was 10 (of 10 available processors)\n",
      "\n",
      "Solution count 5: 27.6377 27.5762 27.4626 ... 11.0424\n",
      "\n",
      "Optimal solution found (tolerance 1.00e-04)\n",
      "Best objective 2.763767449335e+01, best bound 2.763767449335e+01, gap 0.0000%\n",
      "\n",
      "User-callback calls 151, time in user-callback 0.00 sec\n"
     ]
    }
   ],
   "source": [
    "model = JuMP.Model(Gurobi.Optimizer)\n",
    "\n",
    "@variable(model, x[1:num_items], Bin)\n",
    "@constraint(model, sum(weights[i] * x[i] for i in 1:num_items) <= capacity)\n",
    "\n",
    "@objective(model, Max, sum(profits[i] * x[i] for i in 1:num_items))\n",
    "\n",
    "optimize!(model)"
   ]
  },
  {
   "cell_type": "markdown",
   "id": "b5726d87-01b0-422a-9429-8dff3e01f903",
   "metadata": {},
   "source": [
    "Which items get selected?"
   ]
  },
  {
   "cell_type": "code",
   "execution_count": 5,
   "id": "0089ef13-4a47-411f-95c5-e8d9617bf3d1",
   "metadata": {},
   "outputs": [
    {
     "name": "stdout",
     "output_type": "stream",
     "text": [
      "[1, 2, 4, 7, 11, 12, 14, 15, 18, 20, 22, 29, 30, 31, 32, 40, 41, 42, 44, 45, 47, 48, 50, 51, 54, 57, 59, 63, 66, 70, 74, 75, 76, 77, 79, 84, 86, 94, 96, 98, 99]\n"
     ]
    }
   ],
   "source": [
    "println(findall(value.(x) .> 0.1))"
   ]
  },
  {
   "cell_type": "code",
   "execution_count": null,
   "id": "741389d0-9160-4031-8d71-c1b127a0226b",
   "metadata": {},
   "outputs": [],
   "source": []
  }
 ],
 "metadata": {
  "kernelspec": {
   "display_name": "Julia 1.8.3",
   "language": "julia",
   "name": "julia-1.8"
  },
  "language_info": {
   "file_extension": ".jl",
   "mimetype": "application/julia",
   "name": "julia",
   "version": "1.8.3"
  }
 },
 "nbformat": 4,
 "nbformat_minor": 5
}
