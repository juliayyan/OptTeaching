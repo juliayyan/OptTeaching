{
 "cells": [
  {
   "cell_type": "markdown",
   "id": "178d70f5",
   "metadata": {},
   "source": [
    "# Lecture 5 - Cuts"
   ]
  },
  {
   "cell_type": "markdown",
   "id": "8654f8dc",
   "metadata": {},
   "source": [
    "##  Header"
   ]
  },
  {
   "cell_type": "code",
   "execution_count": null,
   "id": "9138a2f5",
   "metadata": {},
   "outputs": [],
   "source": [
    "# Dependencies: Uncomment and run this cell if you don't have these packages \n",
    "using JuMP\n",
    "using Gurobi"
   ]
  },
  {
   "cell_type": "markdown",
   "id": "ee342bd9",
   "metadata": {},
   "source": [
    "## Setup"
   ]
  },
  {
   "cell_type": "markdown",
   "id": "5f22ec84",
   "metadata": {},
   "source": [
    "We are going to look at a Gurobi log for an instance of the MTZ formulation. Let us first generate instance data.\n",
    "\n",
    "We then try to solve our problem with cuts included. This is the default in Gurobi."
   ]
  },
  {
   "cell_type": "code",
   "execution_count": null,
   "id": "79592126",
   "metadata": {},
   "outputs": [],
   "source": [
    "# We first load in our instance. \n",
    "# The instance we use is drawn from the MIPLIB2017, which is a benchmark set. See https://miplib.zib.de/index.html.\n",
    "# We use the instance comp07-2idx.mps, which models a timetabling problem for universities, i.e.,\n",
    "# assign lectures to rooms to make students and faculty happy.\n",
    "# See \"A strategic view of University timetabling\"\n",
    "\n",
    "model = read_from_file(\"comp07-2idx.mps\")\n",
    "\n",
    "# We define our optimizer. \n",
    "\n",
    "optimizer_cuts = JuMP.optimizer_with_attributes(Gurobi.Optimizer, \"TimeLimit\" => 20)\n",
    "\n",
    "# We then set our optimizer, and solve.\n",
    "set_optimizer(model, optimizer_cuts)\n",
    "optimize!(model)"
   ]
  },
  {
   "cell_type": "markdown",
   "id": "18d318a9",
   "metadata": {},
   "source": [
    "Next, We try to solve our problem without cuts."
   ]
  },
  {
   "cell_type": "code",
   "execution_count": null,
   "id": "ef76c8f1",
   "metadata": {},
   "outputs": [],
   "source": [
    "# We define a new optimizer. \n",
    "\n",
    "optimizer_nocuts = JuMP.optimizer_with_attributes(Gurobi.Optimizer, \"Cuts\" => 0, \"TimeLimit\" => 20)\n",
    "\n",
    "# We reset the optimizer and resolve. \n",
    "\n",
    "set_optimizer(model, optimizer_nocuts)\n",
    "optimize!(model)"
   ]
  },
  {
   "cell_type": "code",
   "execution_count": null,
   "id": "117d2290",
   "metadata": {},
   "outputs": [],
   "source": []
  }
 ],
 "metadata": {
  "kernelspec": {
   "display_name": "Julia 1.6.2",
   "language": "julia",
   "name": "julia-1.6"
  },
  "language_info": {
   "file_extension": ".jl",
   "mimetype": "application/julia",
   "name": "julia",
   "version": "1.6.2"
  }
 },
 "nbformat": 4,
 "nbformat_minor": 5
}
