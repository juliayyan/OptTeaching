{
 "cells": [
  {
   "cell_type": "markdown",
   "id": "eb064287-c147-434f-b357-2405a3768571",
   "metadata": {},
   "source": [
    "# Lecture 6 - Networks"
   ]
  },
  {
   "cell_type": "code",
   "execution_count": 1,
   "id": "4e04bea5-bf9c-4de3-94b8-5b6ad76a6559",
   "metadata": {},
   "outputs": [],
   "source": [
    "# # Dependencies: Uncomment and run this cell if you don't have these packages \n",
    "# using Pkg\n",
    "# Pkg.add(\"JuMP\")\n",
    "# Pkg.add(\"Gurobi\") # You need Gurobi for the lazy constraints\n",
    "# Pkg.add(\"StatsBase\")\n",
    "# Pkg.add(\"Graphs\")\n",
    "# Pkg.add(\"GraphIO\")"
   ]
  },
  {
   "cell_type": "code",
   "execution_count": 2,
   "id": "3057123c-8265-45e5-bd68-505105103b71",
   "metadata": {},
   "outputs": [],
   "source": [
    "using Graphs, GraphIO\n",
    "using JuMP, Gurobi\n",
    "using Random, StatsBase"
   ]
  },
  {
   "cell_type": "markdown",
   "id": "03518687-0cf2-46da-a603-bfd406325c27",
   "metadata": {},
   "source": [
    "## Load graph input"
   ]
  },
  {
   "cell_type": "markdown",
   "id": "48d2521c-86bd-4b71-ae13-486b608b0c0f",
   "metadata": {},
   "source": [
    "We'll use a graph from the [Stanford Large Network Dataset Collection](https://snap.stanford.edu/data/)."
   ]
  },
  {
   "cell_type": "code",
   "execution_count": 3,
   "id": "d848c1db-e2b8-497b-a86e-e5043b4b416b",
   "metadata": {},
   "outputs": [
    {
     "name": "stdout",
     "output_type": "stream",
     "text": [
      "  1.013948 seconds (11.48 M allocations: 626.225 MiB, 15.28% gc time)\n",
      "262111 vertices, 1234877 edges\n"
     ]
    }
   ],
   "source": [
    "@time g = squash(loadgraph(\n",
    "\t\"data/amazon.txt\", \n",
    "\tGraphIO.EdgeList.EdgeListFormat()));\n",
    "println(length(vertices(g)), \" vertices, \", g.ne, \" edges\")"
   ]
  },
  {
   "cell_type": "markdown",
   "id": "15cea9c7-538f-443b-9add-e0198e9386db",
   "metadata": {},
   "source": [
    "## Specialized Algorithm (Dijkstra)"
   ]
  },
  {
   "cell_type": "markdown",
   "id": "06afad23-7e43-4840-9296-8de7a54d2447",
   "metadata": {},
   "source": [
    "First, we'll run Dijkstra's algorithm. This code will give us the shortest paths from node 1 to all other nodes."
   ]
  },
  {
   "cell_type": "code",
   "execution_count": 4,
   "id": "3298dafe-738b-4153-a9a8-7d08e4a2e421",
   "metadata": {},
   "outputs": [
    {
     "name": "stdout",
     "output_type": "stream",
     "text": [
      "  0.168979 seconds (292.10 k allocations: 32.053 MiB, 49.91% compilation time)\n"
     ]
    }
   ],
   "source": [
    "s = 1\n",
    "@time ds = Graphs.dijkstra_shortest_paths(g, [s]);"
   ]
  },
  {
   "cell_type": "markdown",
   "id": "2a33ed89-5d27-4866-b16c-c06abffcac30",
   "metadata": {},
   "source": [
    "## General Solver"
   ]
  },
  {
   "cell_type": "markdown",
   "id": "482d6bc2-1746-4c0c-acc5-de320278a152",
   "metadata": {},
   "source": [
    "Now, we'll solve the shortest path problem using LP. First, let's load the Gurobi optimizer. "
   ]
  },
  {
   "cell_type": "code",
   "execution_count": 5,
   "id": "3f25f045-c531-47ad-8db7-1fa9361766f0",
   "metadata": {},
   "outputs": [
    {
     "name": "stdout",
     "output_type": "stream",
     "text": [
      "Set parameter Username\n",
      "Academic license - for non-commercial use only - expires 2025-01-18\n"
     ]
    }
   ],
   "source": [
    "env = Gurobi.Env()\n",
    "optimizer = optimizer_with_attributes(() -> Gurobi.Optimizer(env), \"OutputFlag\" => 0);"
   ]
  },
  {
   "cell_type": "markdown",
   "id": "0f25adb4-04ec-40c3-85a1-3a8d36582587",
   "metadata": {},
   "source": [
    "Here's a function that builds an LP to solve the shortest path problem from source s to sink t. (Note that with Dijkstra's algorithm, we could have multiple sources and sinks). "
   ]
  },
  {
   "cell_type": "code",
   "execution_count": 6,
   "id": "caa9ef6a-fcbd-440a-b4fa-9cfce4b2c6d0",
   "metadata": {},
   "outputs": [
    {
     "data": {
      "text/plain": [
       "shortest_path_lp (generic function with 1 method)"
      ]
     },
     "execution_count": 6,
     "metadata": {},
     "output_type": "execute_result"
    }
   ],
   "source": [
    "function shortest_path_lp(g::SimpleDiGraph, s::Int, t::Int)\n",
    "\n",
    "    # Extract graph parameters\n",
    "    edge_list = [(e.src, e.dst) for e in Graphs.edges(g)]\n",
    "    V = length(vertices(g))\n",
    "    \n",
    "    # RHS of the flow balance constraint\n",
    "    rhs(u::Int, s::Int, t::Int) = (u == s) ? 1 : (u == t) ? -1 : 0\n",
    "\n",
    "    # Build model\n",
    "    model = JuMP.Model(optimizer)\n",
    "    JuMP.set_silent(model)\n",
    "\t@variable(model, 0 <= x[edge_list] <= 1);\n",
    "\t@constraint(model, \n",
    "\t\t[u = 1:V],\n",
    "\t\tsum(x[(u, v)] for v in g.fadjlist[u]) - \n",
    "\t\tsum(x[(v, u)] for v in g.badjlist[u]) == rhs(u, s, t));\n",
    "\t@objective(model, Min, sum(x[(u, v)] for (u, v) in edge_list))\n",
    "    optimize!(model)\n",
    "    \n",
    "    return objective_value(model), solve_time(model)\n",
    "\n",
    "end"
   ]
  },
  {
   "cell_type": "markdown",
   "id": "a087541a-ec1b-466d-93d0-d3e18374d5e6",
   "metadata": {},
   "source": [
    "Now we'll solve a few instances of the shortest path LP and see how it does."
   ]
  },
  {
   "cell_type": "code",
   "execution_count": 7,
   "id": "39305dd0-ca3a-402c-bbcb-feda04c52dec",
   "metadata": {},
   "outputs": [
    {
     "name": "stdout",
     "output_type": "stream",
     "text": [
      "Average solve time: 3.85159854888916 seconds\n"
     ]
    }
   ],
   "source": [
    "Random.seed!(1)\n",
    "solve_times = Float64[]\n",
    "for it in 1:5\n",
    "    t = rand(1:length(vertices(g)))\n",
    "    dist_t, time_t = shortest_path_lp(g, s, t)\n",
    "    @assert isapprox(ds.dists[t], dist_t) # Check that our model matches Dijkstra's algorithm\n",
    "    push!(solve_times, time_t)\n",
    "end\n",
    "println(\"Average solve time: \", mean(solve_times), \" seconds\")"
   ]
  },
  {
   "cell_type": "code",
   "execution_count": null,
   "id": "b74cbab8-236f-4c45-ad6a-c151d9996151",
   "metadata": {},
   "outputs": [],
   "source": []
  }
 ],
 "metadata": {
  "kernelspec": {
   "display_name": "Julia 1.8.3",
   "language": "julia",
   "name": "julia-1.8"
  },
  "language_info": {
   "file_extension": ".jl",
   "mimetype": "application/julia",
   "name": "julia",
   "version": "1.8.3"
  }
 },
 "nbformat": 4,
 "nbformat_minor": 5
}
