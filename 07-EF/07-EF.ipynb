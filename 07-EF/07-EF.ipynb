{
 "cells": [
  {
   "cell_type": "markdown",
   "id": "178d70f5",
   "metadata": {},
   "source": [
    "# Lecture 7 - Extended Formulations"
   ]
  },
  {
   "cell_type": "markdown",
   "id": "8654f8dc",
   "metadata": {},
   "source": [
    "##  Header"
   ]
  },
  {
   "cell_type": "code",
   "execution_count": 1,
   "id": "9138a2f5",
   "metadata": {},
   "outputs": [],
   "source": [
    "# Dependencies: Uncomment and run this cell if you don't have these packages \n",
    "using JuMP\n",
    "using Gurobi\n",
    "using Random\n",
    "using Combinatorics"
   ]
  },
  {
   "cell_type": "markdown",
   "id": "ee342bd9",
   "metadata": {},
   "source": [
    "## The all-even set polytope"
   ]
  },
  {
   "cell_type": "markdown",
   "id": "5f22ec84",
   "metadata": {},
   "source": [
    "We are going to look at the \"all-evens set\" polytope; see the slides for more. \n",
    "\n",
    "We start with the perfect formulation. "
   ]
  },
  {
   "cell_type": "code",
   "execution_count": 2,
   "id": "79592126",
   "metadata": {},
   "outputs": [],
   "source": [
    "# The all-evens set polytope is the convex hull of all n-dimensional\n",
    "# binary vectors whose entries sum to an even number.\n",
    "\n",
    "n = 22;"
   ]
  },
  {
   "cell_type": "markdown",
   "id": "18d318a9",
   "metadata": {},
   "source": [
    "Suppose that we want to optimize a linear function over this polytope."
   ]
  },
  {
   "cell_type": "code",
   "execution_count": 3,
   "id": "117d2290",
   "metadata": {},
   "outputs": [],
   "source": [
    "c = rand(-10:10,n);   # Integer-valued objective function"
   ]
  },
  {
   "cell_type": "markdown",
   "id": "afca2525",
   "metadata": {},
   "source": [
    "We start with the perfect formulation using $O(2^n)$ constraints in the original space. We need all odd sets."
   ]
  },
  {
   "cell_type": "code",
   "execution_count": 4,
   "id": "afe5ff02",
   "metadata": {},
   "outputs": [
    {
     "name": "stdout",
     "output_type": "stream",
     "text": [
      "2097152"
     ]
    }
   ],
   "source": [
    "# Compute all subsets of 1,..., n\n",
    "\n",
    "all_subsets = collect(powerset([1:n;]));\n",
    "\n",
    "# For later use, compute all odd cardinality subsets of 1,..., n\n",
    "\n",
    "odd_subsets = [odd_set for odd_set in all_subsets if mod(length(odd_set),2) == 1];\n",
    "print(length(odd_subsets))"
   ]
  },
  {
   "cell_type": "markdown",
   "id": "2d3c79df",
   "metadata": {},
   "source": [
    "Now we add our constraints and solve the model. We add a 30 second time limit."
   ]
  },
  {
   "cell_type": "code",
   "execution_count": 5,
   "id": "0e5acfe1",
   "metadata": {},
   "outputs": [
    {
     "name": "stdout",
     "output_type": "stream",
     "text": [
      "Academic license - for non-commercial use only - expires 2025-01-17\n",
      "Gurobi Optimizer version 9.1.2 build v9.1.2rc0 (mac64)\n",
      "Thread count: 8 physical cores, 8 logical processors, using up to 8 threads\n",
      "Optimize a model with 2097152 rows, 22 columns and 46137344 nonzeros\n",
      "Model fingerprint: 0xe13f54fe\n",
      "Coefficient statistics:\n",
      "  Matrix range     [1e+00, 1e+00]\n",
      "  Objective range  [1e+00, 1e+01]\n",
      "  Bounds range     [1e+00, 1e+00]\n",
      "  RHS range        [2e+00, 2e+01]\n",
      "Presolve removed 0 rows and 0 columns (presolve time = 30s) ...\n",
      "Presolve time: 30.45s\n",
      "\n",
      "Stopped in 0 iterations and 30.45 seconds\n",
      "Time limit reached\n",
      "\n",
      "User-callback calls 18, time in user-callback 0.00 sec\n"
     ]
    }
   ],
   "source": [
    "optimizer = JuMP.optimizer_with_attributes(Gurobi.Optimizer, \"TimeLimit\" => 30)\n",
    "\n",
    "model = JuMP.Model(optimizer)\n",
    "\n",
    "@variable(model, 0 <= x[1:n]<= 1)\n",
    "@constraint(model, \n",
    "    odd_cut[set in odd_subsets], \n",
    "    sum(sum(x[i] for i in [1:n;] if i in set)-sum(x[i] for i in [1:n;] if i ∉ set)) <= length(set)-1)\n",
    "\n",
    "@objective(model, Max, sum(c[i] * x[i] for i in 1:n))\n",
    "\n",
    "optimize!(model)"
   ]
  },
  {
   "cell_type": "markdown",
   "id": "11334d10",
   "metadata": {},
   "source": [
    "The model is slow to even build! Even after the model is built, it is slow to solve."
   ]
  },
  {
   "cell_type": "markdown",
   "id": "04c385a1",
   "metadata": {},
   "source": [
    "Now, let us see the extended formulation. \n",
    "\n",
    "We need the even indices up to n."
   ]
  },
  {
   "cell_type": "code",
   "execution_count": 6,
   "id": "ac74c66e",
   "metadata": {},
   "outputs": [],
   "source": [
    "# Even indices\n",
    "\n",
    "even_nums = [i for i in [0:n;] if mod(i,2)==0];\n",
    "\n",
    "k = length(even_nums);"
   ]
  },
  {
   "cell_type": "markdown",
   "id": "6a0e9dd1",
   "metadata": {},
   "source": [
    "Next, we create the model. Recall that we have nk+n+k variables. "
   ]
  },
  {
   "cell_type": "code",
   "execution_count": 7,
   "id": "1c7eb2aa",
   "metadata": {},
   "outputs": [
    {
     "name": "stdout",
     "output_type": "stream",
     "text": [
      "Academic license - for non-commercial use only - expires 2025-01-17\n",
      "Gurobi Optimizer version 9.1.2 build v9.1.2rc0 (mac64)\n",
      "Thread count: 8 physical cores, 8 logical processors, using up to 8 threads\n",
      "Optimize a model with 299 rows, 308 columns and 1112 nonzeros\n",
      "Model fingerprint: 0x9bbd0153\n",
      "Coefficient statistics:\n",
      "  Matrix range     [1e+00, 1e+01]\n",
      "  Objective range  [1e+00, 1e+01]\n",
      "  Bounds range     [1e+00, 1e+00]\n",
      "  RHS range        [1e+00, 1e+00]\n",
      "Presolve removed 0 rows and 13 columns\n",
      "Presolve time: 0.00s\n",
      "Presolved: 299 rows, 295 columns, 1099 nonzeros\n",
      "\n",
      "Iteration    Objective       Primal Inf.    Dual Inf.      Time\n",
      "       0    3.4000000e+01   1.800000e+01   0.000000e+00      0s\n",
      "     105    3.4000000e+01   0.000000e+00   0.000000e+00      0s\n",
      "\n",
      "Solved in 105 iterations and 0.01 seconds\n",
      "Optimal objective  3.400000000e+01\n",
      "\n",
      "User-callback calls 134, time in user-callback 0.00 sec\n"
     ]
    }
   ],
   "source": [
    "model_EF = JuMP.Model(optimizer)\n",
    "\n",
    "@variable(model_EF, 0 <= x[1:n]<= 1)\n",
    "@variable(model_EF, 0 <= xT[1:k,1:n])\n",
    "@variable(model_EF, 0 <= lambda[1:n])\n",
    "\n",
    "@constraint(model_EF, convex_sum[i in [1:n;]], sum(xT[t,i] for t in [1:k;]) == x[i])\n",
    "@constraint(model_EF, polytope[t in [1:k;]], sum(xT[t,i] for i in [1:n;]) == t*lambda[t])\n",
    "@constraint(model_EF, bounds[t in [1:k;], i in [1:n;]], xT[t,i] <= lambda[t])\n",
    "@constraint(model_EF, convex_lambda, sum(lambda[i] for i in [1:n;]) == 1)\n",
    "\n",
    "@objective(model_EF, Max, sum(c[i] * x[i] for i in 1:n))\n",
    "\n",
    "optimize!(model_EF)"
   ]
  }
 ],
 "metadata": {
  "kernelspec": {
   "display_name": "Julia 1.6.2",
   "language": "julia",
   "name": "julia-1.6"
  },
  "language_info": {
   "file_extension": ".jl",
   "mimetype": "application/julia",
   "name": "julia",
   "version": "1.6.2"
  }
 },
 "nbformat": 4,
 "nbformat_minor": 5
}
