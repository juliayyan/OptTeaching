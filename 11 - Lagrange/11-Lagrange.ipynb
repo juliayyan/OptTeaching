{
 "cells": [
  {
   "cell_type": "markdown",
   "id": "349f84a4",
   "metadata": {},
   "source": [
    "# Lecture 11 - Lagrange Relaxation\n",
    "\n",
    "Joseph Paat\n",
    "\n",
    "*Acknowledgment:* Code taken from Lecture 1 of COMM612 by Prof. Julia Yan.\n",
    "Lazy DFJ implementation adapted from the [JuMP documentation](https://jump.dev/JuMP.jl/stable/tutorials/algorithms/tsp_lazy_constraints/)."
   ]
  },
  {
   "cell_type": "markdown",
   "id": "da3aab99-b317-45ee-b01a-db48d86de83f",
   "metadata": {},
   "source": [
    "##  Header"
   ]
  },
  {
   "cell_type": "code",
   "execution_count": null,
   "id": "6eae9e20-b933-4d16-9ca7-af952d825720",
   "metadata": {},
   "outputs": [],
   "source": [
    "# # Dependencies: Uncomment and run this cell if you don't have these packages \n",
    "# Pkg.add(\"JuMP\")\n",
    "# Pkg.add(\"Gurobi\")\n",
    "# Pkg.add(\"Combinatorics\")\n",
    "# Pkg.add(\"Plots\")"
   ]
  },
  {
   "cell_type": "code",
   "execution_count": null,
   "id": "740e230a",
   "metadata": {},
   "outputs": [],
   "source": [
    "include(\"tsp-src/data.jl\");\n",
    "include(\"tsp-src/opt.jl\");\n",
    "include(\"tsp-src/out.jl\");"
   ]
  },
  {
   "cell_type": "markdown",
   "id": "5fbbf4de-bfa2-44ea-8df7-32176abce424",
   "metadata": {},
   "source": [
    "Let us first try to solve 5 TSP instances on 200 nodes with the DFJ formulation and adding lazy constraints"
   ]
  },
  {
   "cell_type": "code",
   "execution_count": null,
   "id": "a742981b-5ba8-4006-8759-433be2f5cf56",
   "metadata": {},
   "outputs": [],
   "source": [
    "n = 250\n",
    "all_n = [i for i in 1:5]\n",
    "dat = Dict()\n",
    "\n",
    "for iter in all_n\n",
    "    dat[iter] = TSPInstanceInt(n, 100, random_seed = iter)\n",
    "end"
   ]
  },
  {
   "cell_type": "code",
   "execution_count": null,
   "id": "b671afc0-1591-4e9a-82dc-25cb7f8e2faa",
   "metadata": {},
   "outputs": [],
   "source": [
    "#dat = TSPInstanceInt(n, 100, random_seed = 1)\n",
    "\n",
    "mdl_dfj = TSPModel(dat[1], OutputFlag =1, TimeLimit = 10)\n",
    "add_dfj_callback!(mdl_dfj)\n",
    "solution_dfj = solve!(mdl_dfj)"
   ]
  },
  {
   "cell_type": "markdown",
   "id": "5c4af85b-692a-415b-bb1e-a35f2ea74d37",
   "metadata": {},
   "source": [
    "On my computer, this runs out of time."
   ]
  },
  {
   "cell_type": "markdown",
   "id": "622d81d6-64a1-4e5e-a5ec-0d661ea98ab9",
   "metadata": {},
   "source": [
    "# Comparing a heuristic to the lower bound by Held Karp"
   ]
  },
  {
   "cell_type": "markdown",
   "id": "e9b202b5-e132-4966-ab5c-4bcecb9ace30",
   "metadata": {},
   "source": [
    "## We compare the Lin-Kernighan Heuristic to the optimal value. We look at random instances generated on 500 cities. "
   ]
  },
  {
   "cell_type": "code",
   "execution_count": null,
   "id": "b8b693d7",
   "metadata": {},
   "outputs": [],
   "source": [
    "# Multiple random instances on 500 cities\n",
    "opt_vals = Dict([(\"LKH\",[]),(\"HK\",[])])\n",
    "    \n",
    "all_n = [i for i in 1:5]\n",
    "\n",
    "for iter in all_n\n",
    "    # LK Heuristic\n",
    "    @time lk_opt_tour, lk_opt_len = solve_tsp(dat[iter].d)\n",
    "\n",
    "    #HK bound\n",
    "    @time hk_bound = HK_bound(dat[iter],lk_opt_len)\n",
    "    \n",
    "    push!(opt_vals[\"LKH\"], lk_opt_len)\n",
    "    push!(opt_vals[\"HK\"], hk_bound)\n",
    "\n",
    "end"
   ]
  },
  {
   "cell_type": "markdown",
   "id": "a0ad46a2-47fe-4323-b6e6-f62643aba52a",
   "metadata": {},
   "source": [
    "Plot results"
   ]
  },
  {
   "cell_type": "code",
   "execution_count": null,
   "id": "a75c5b5a-c55d-489b-ba73-c38891ddaeef",
   "metadata": {},
   "outputs": [],
   "source": [
    "plt = Plots.plot()\n",
    "for key in keys(opt_vals)\n",
    "    Plots.plot!(all_n, opt_vals[key], label = key, marker = :circle)    \n",
    "end\n",
    "\n",
    "title!(\"Comparing LK-Heuristic to Held-Karp Lagrangian Relaxation\")\n",
    "xlabel!(\"Iteration Number\")\n",
    "ylabel!(\"Total distance traveled\")\n",
    "display(plt)"
   ]
  },
  {
   "cell_type": "markdown",
   "id": "c327a482-4dc9-4157-b758-6065166b0f46",
   "metadata": {},
   "source": [
    "Plot the optimality gap"
   ]
  },
  {
   "cell_type": "code",
   "execution_count": null,
   "id": "ab8bb1c9-f5d9-465f-b191-0a6cea781eca",
   "metadata": {},
   "outputs": [],
   "source": [
    "rel_gap = [abs(opt_vals[\"LKH\"][i]-opt_vals[\"HK\"][i])/opt_vals[\"LKH\"][i] for i in all_n]\n",
    "\n",
    "plt2 = Plots.plot()\n",
    "Plots.plot!(all_n, rel_gap, marker = :circle,legend=false)    \n",
    "\n",
    "title!(\"Relative Optimality gap LK-Heuristic to Exact Solution\")\n",
    "xlabel!(\"Iteration Number\")\n",
    "ylabel!(\"Relative gap %\")\n",
    "display(plt2)"
   ]
  },
  {
   "cell_type": "code",
   "execution_count": null,
   "id": "306913ef-6840-4042-8cba-075c53cd9492",
   "metadata": {},
   "outputs": [],
   "source": []
  }
 ],
 "metadata": {
  "kernelspec": {
   "display_name": "Julia 1.6.2",
   "language": "julia",
   "name": "julia-1.6"
  },
  "language_info": {
   "file_extension": ".jl",
   "mimetype": "application/julia",
   "name": "julia",
   "version": "1.6.2"
  }
 },
 "nbformat": 4,
 "nbformat_minor": 5
}
