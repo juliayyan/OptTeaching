{
 "cells": [
  {
   "cell_type": "markdown",
   "id": "349f84a4",
   "metadata": {},
   "source": [
    "# Lecture 11 - Lagrange Relaxation\n",
    "\n",
    "Joseph Paat\n",
    "\n",
    "*Acknowledgment:* Code taken from Lecture 1 of COMM612 by Prof. Julia Yan.\n",
    "Lazy DFJ implementation adapted from the [JuMP documentation](https://jump.dev/JuMP.jl/stable/tutorials/algorithms/tsp_lazy_constraints/)."
   ]
  },
  {
   "cell_type": "markdown",
   "id": "da3aab99-b317-45ee-b01a-db48d86de83f",
   "metadata": {},
   "source": [
    "##  Header"
   ]
  },
  {
   "cell_type": "code",
   "execution_count": 2,
   "id": "6eae9e20-b933-4d16-9ca7-af952d825720",
   "metadata": {},
   "outputs": [],
   "source": [
    "# # Dependencies: Uncomment and run this cell if you don't have these packages \n",
    "# Pkg.add(\"JuMP\")\n",
    "# Pkg.add(\"Gurobi\")\n",
    "# Pkg.add(\"Combinatorics\")\n",
    "# Pkg.add(\"Plots\")"
   ]
  },
  {
   "cell_type": "code",
   "execution_count": 3,
   "id": "740e230a",
   "metadata": {},
   "outputs": [],
   "source": [
    "include(\"tsp-src/data.jl\");\n",
    "include(\"tsp-src/opt.jl\");\n",
    "include(\"tsp-src/out.jl\");"
   ]
  },
  {
   "cell_type": "markdown",
   "id": "622d81d6-64a1-4e5e-a5ec-0d661ea98ab9",
   "metadata": {},
   "source": [
    "# Comparing a heuristic to the lower bound by Held Karp"
   ]
  },
  {
   "cell_type": "markdown",
   "id": "e9b202b5-e132-4966-ab5c-4bcecb9ace30",
   "metadata": {},
   "source": [
    "## We compare the Lin-Kernighan Heuristic to the optimal value. We look at random instances generated on 200 cities. "
   ]
  },
  {
   "cell_type": "code",
   "execution_count": null,
   "id": "b8b693d7",
   "metadata": {},
   "outputs": [],
   "source": [
    "# Multiple random instances on 200 cities\n",
    "\n",
    "n = 200\n",
    "opt_vals = Dict([(\"LKH\", []), (\"HK\", [])])\n",
    "#opt_vals = Dict([(\"LKH\", []), (\"IP\", []), (\"HK\", [])])\n",
    "all_n = [i for i in 1:5]\n",
    "\n",
    "for iter in all_n\n",
    "    dat = TSPInstanceInt(n, 100, random_seed = iter)\n",
    "\n",
    "    # LK Heuristic\n",
    "    lk_opt_tour, lk_opt_len = solve_tsp(dat.d)\n",
    "\n",
    "    #HK bound\n",
    "    hk_bound = HK_bound(dat,lk_opt_len)\n",
    "    \n",
    "    push!(opt_vals[\"LKH\"], lk_opt_len)\n",
    "    push!(opt_vals[\"HK\"], hk_bound)\n",
    "\n",
    "end"
   ]
  },
  {
   "cell_type": "markdown",
   "id": "a0ad46a2-47fe-4323-b6e6-f62643aba52a",
   "metadata": {},
   "source": [
    "Plot results"
   ]
  },
  {
   "cell_type": "code",
   "execution_count": null,
   "id": "a75c5b5a-c55d-489b-ba73-c38891ddaeef",
   "metadata": {},
   "outputs": [],
   "source": [
    "plt = Plots.plot()\n",
    "for key in keys(opt_vals)\n",
    "    Plots.plot!(all_n, opt_vals[key], label = key, marker = :circle)    \n",
    "end\n",
    "\n",
    "title!(\"Comparing LK-Heuristic to Held-Karp Lagrangian Relaxation\")\n",
    "xlabel!(\"Iteration Number\")\n",
    "ylabel!(\"Total distance traveled\")\n",
    "display(plt)"
   ]
  },
  {
   "cell_type": "markdown",
   "id": "c327a482-4dc9-4157-b758-6065166b0f46",
   "metadata": {},
   "source": [
    "Plot the optimality gap"
   ]
  },
  {
   "cell_type": "code",
   "execution_count": null,
   "id": "ab8bb1c9-f5d9-465f-b191-0a6cea781eca",
   "metadata": {},
   "outputs": [],
   "source": [
    "rel_gap = [abs(opt_vals[\"LKH\"][i]-opt_vals[\"HK\"][i])/opt_vals[\"LKH\"][i] for i in all_n]\n",
    "\n",
    "plt2 = Plots.plot()\n",
    "Plots.plot!(all_n, rel_gap, marker = :circle,legend=false)    \n",
    "\n",
    "title!(\"Relative Optimality gap LK-Heuristic to Exact Solution\")\n",
    "xlabel!(\"Iteration Number\")\n",
    "ylabel!(\"Relative gap %\")\n",
    "display(plt2)"
   ]
  },
  {
   "cell_type": "code",
   "execution_count": null,
   "id": "eddaf8ef-cc99-4ff0-a644-bb7bb24e8f9e",
   "metadata": {},
   "outputs": [],
   "source": []
  }
 ],
 "metadata": {
  "kernelspec": {
   "display_name": "Julia 1.6.2",
   "language": "julia",
   "name": "julia-1.6"
  },
  "language_info": {
   "file_extension": ".jl",
   "mimetype": "application/julia",
   "name": "julia",
   "version": "1.6.2"
  }
 },
 "nbformat": 4,
 "nbformat_minor": 5
}
