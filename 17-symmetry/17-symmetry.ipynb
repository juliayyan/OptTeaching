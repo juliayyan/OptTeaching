{
 "cells": [
  {
   "cell_type": "markdown",
   "id": "349f84a4",
   "metadata": {},
   "source": [
    "# Lecture 17 - Symmetry in the operating room example.\n",
    "\n",
    "Joseph Paat\n",
    "\n",
    "*Acknowledgment:* Code adapted from Lecture 1 of COMM612 by Prof. Julia Yan."
   ]
  },
  {
   "cell_type": "markdown",
   "id": "da3aab99-b317-45ee-b01a-db48d86de83f",
   "metadata": {},
   "source": [
    "##  Header"
   ]
  },
  {
   "cell_type": "code",
   "execution_count": null,
   "id": "6eae9e20-b933-4d16-9ca7-af952d825720",
   "metadata": {},
   "outputs": [],
   "source": [
    "# # Dependencies: Uncomment and run this cell if you don't have these packages \n",
    "# Pkg.add(\"JuMP\")\n",
    "# Pkg.add(\"Gurobi\")\n",
    "# Pkg.add(\"Combinatorics\")\n",
    "# Pkg.add(\"Plots\")"
   ]
  },
  {
   "cell_type": "code",
   "execution_count": null,
   "id": "740e230a",
   "metadata": {},
   "outputs": [],
   "source": [
    "include(\"src/data.jl\");\n",
    "include(\"src/opt.jl\");\n",
    "include(\"src/out.jl\");"
   ]
  },
  {
   "cell_type": "markdown",
   "id": "5fbbf4de-bfa2-44ea-8df7-32176abce424",
   "metadata": {},
   "source": [
    "## Data Input"
   ]
  },
  {
   "cell_type": "markdown",
   "id": "e4ace5b2-307f-4357-b596-9606ec7bd977",
   "metadata": {},
   "source": [
    "Optimizer for all models"
   ]
  },
  {
   "cell_type": "code",
   "execution_count": null,
   "id": "a742981b-5ba8-4006-8759-433be2f5cf56",
   "metadata": {},
   "outputs": [],
   "source": [
    "env = Gurobi.Env()\n",
    "optimizer = JuMP.optimizer_with_attributes(() -> Gurobi.Optimizer(env), \"TimeLimit\" => 60, \"Cuts\" => 0, \"Presolve\" => 0, \"Heuristics\" => 0, \"Symmetry\" => 0); # () -> G.O(env) can also be replaced with G.O"
   ]
  },
  {
   "cell_type": "markdown",
   "id": "6777e69f-2a78-4341-af72-770ceac57b9a",
   "metadata": {},
   "source": [
    "Generate instance data"
   ]
  },
  {
   "cell_type": "code",
   "execution_count": null,
   "id": "b671afc0-1591-4e9a-82dc-25cb7f8e2faa",
   "metadata": {},
   "outputs": [],
   "source": [
    "# One instance to deep-dive into each model\n",
    "dat = OpRoomInstance(100, 6, 25, random_seed = 1)\n",
    "#dat = OpRoomInstance(500, 10, 50, random_seed = 1)"
   ]
  },
  {
   "cell_type": "markdown",
   "id": "ef00d316-b63f-447f-9f6a-f455fc4e21be",
   "metadata": {},
   "source": [
    "Let us simply solve the instance using the standard ILP formulation."
   ]
  },
  {
   "cell_type": "code",
   "execution_count": null,
   "id": "c232eb0d-35fc-43c5-ae8f-7b8deb37fefe",
   "metadata": {
    "scrolled": true
   },
   "outputs": [],
   "source": [
    "mdl = OpRoomModel(dat, optimizer = optimizer)"
   ]
  },
  {
   "cell_type": "code",
   "execution_count": null,
   "id": "95c014f0-e075-44a4-b0a4-bd7b2ce21b4f",
   "metadata": {},
   "outputs": [],
   "source": [
    "solve!(mdl)"
   ]
  },
  {
   "cell_type": "markdown",
   "id": "85e1c0e1-602d-44dc-9289-39f990b110e8",
   "metadata": {},
   "source": [
    "Note that we find the dual bound very quickly. However, we visit around 3000 nodes trying to find a matching primal bound."
   ]
  },
  {
   "cell_type": "markdown",
   "id": "b56dc6a2-48eb-46f4-86f3-c140558911d7",
   "metadata": {},
   "source": [
    "Now, let's add the symmetry breaking constraints due to Denton et al."
   ]
  },
  {
   "cell_type": "code",
   "execution_count": null,
   "id": "b7dcaf98-2c6f-4dbd-9b93-5d90a7b0825c",
   "metadata": {},
   "outputs": [],
   "source": [
    "add_denton_constraints!(mdl)"
   ]
  },
  {
   "cell_type": "code",
   "execution_count": null,
   "id": "b81a4584-0bc3-448a-872d-81d097b70cef",
   "metadata": {},
   "outputs": [],
   "source": [
    "solve!(mdl)"
   ]
  },
  {
   "cell_type": "markdown",
   "id": "fde5e3d9-f2aa-4429-a41d-ceca73330e1b",
   "metadata": {},
   "source": [
    "Here, we only visit around 460 nodes."
   ]
  },
  {
   "cell_type": "code",
   "execution_count": null,
   "id": "e8639026-9be7-4afb-9bab-9257e972f04a",
   "metadata": {},
   "outputs": [],
   "source": []
  }
 ],
 "metadata": {
  "kernelspec": {
   "display_name": "Julia 1.6.2",
   "language": "julia",
   "name": "julia-1.6"
  },
  "language_info": {
   "file_extension": ".jl",
   "mimetype": "application/julia",
   "name": "julia",
   "version": "1.6.2"
  }
 },
 "nbformat": 4,
 "nbformat_minor": 5
}
